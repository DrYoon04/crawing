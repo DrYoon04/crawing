{
 "cells": [
  {
   "cell_type": "markdown",
   "metadata": {},
   "source": [
    "# op.gg 크롤링\n",
    "## 간단 코드설명\n",
    "- 위쪽 블록 :   \n",
    "사이트에서 selenium을 이용하여 동적웹로딩후 html변수에 html 코드저장\n",
    "\n",
    "- 아래쪽 블록 :   \n",
    "beautifulsoup를 이용하여 코드 분석 및 판다스를 이용한 데이터 프레임 생성\n",
    "matplotlib로 승률 파이차트 생성"
   ]
  },
  {
   "cell_type": "markdown",
   "metadata": {},
   "source": [
    "## 샐레니움을 활용한 부분 작동방식\n",
    "1. 사용자로부터 리그오브레전드의 닉네임을 받아서 op.gg 사이트에 접속을 합니다.    \n",
    "2. 마지막 업데이트 시간을 확인하여 시간, 일, 하루 전 일때 전적갱신 버튼을 누릅니다.   \n",
    "3. 스크롤을 맨 아래로 내려 더보기 버튼을 더 못찾을 때까지 누르거나 2000게임이 로딩 될때까지 누릅니다(더보기 누를때마다 20게임씩 로딩)\n",
    "4. 로딩이 되었다면 html로 저장을 합니다"
   ]
  },
  {
   "cell_type": "code",
   "execution_count": 2,
   "metadata": {},
   "outputs": [
    {
     "name": "stdout",
     "output_type": "stream",
     "text": [
      "로딩중...\n",
      "최근 업데이트: 11시간 전\n",
      "데이터 최신화 중...\n"
     ]
    },
    {
     "data": {
      "application/vnd.jupyter.widget-view+json": {
       "model_id": "a2bff4b4496d4516a0b5be60b3854de6",
       "version_major": 2,
       "version_minor": 0
      },
      "text/plain": [
       "5초 소요:   0%|          | 0/5 [00:00<?, ?it/s]"
      ]
     },
     "metadata": {},
     "output_type": "display_data"
    },
    {
     "name": "stdout",
     "output_type": "stream",
     "text": [
      "게임 로드중...\n",
      "게임 로드중...\n",
      "더이상 찾을 데이터가 없습니다.\n",
      "완료\n"
     ]
    }
   ],
   "source": [
    "import re\n",
    "import time\n",
    "from bs4 import BeautifulSoup\n",
    "from tqdm.notebook import tqdm\n",
    "import matplotlib.pyplot as plt\n",
    "import pandas as pd\n",
    "from selenium import webdriver\n",
    "from selenium.webdriver.common.by import By\n",
    "\n",
    "\n",
    "nickname = input('op.gg 사이트에서 검색할 닉네임을 입력해주세요 : \\n')\n",
    "url = f'https://www.op.gg/summoners/kr/{nickname}'\n",
    "\n",
    "# Chrome 드라이버 경로 설정\n",
    "driver = webdriver.Chrome()\n",
    "\n",
    "# op.gg 웹 사이트로 이동\n",
    "print('로딩중...')\n",
    "driver.get(url)\n",
    "look = driver.find_element(By.XPATH, '//*[@id=\"content-header\"]/div[1]/div/div[1]/div[2]/div[5]/div').text\n",
    "\n",
    "print(look)\n",
    "#re를 이용해서 1시간 전, 1일 전, 하루 전이라는 문자열이 있으면 데이터를 최신화 시킨다.\n",
    "if re.search(r'(\\d+\\s*시간|\\d+\\s*일|하루)\\s*전', look):\n",
    "    driver.find_element(By.XPATH, '//*[@id=\"content-header\"]/div[1]/div/div[1]/div[2]/div[4]/button').click()\n",
    "    print('데이터 최신화 중...')\n",
    "    new = tqdm(range(5),desc='5초 소요',leave=False)\n",
    "    for i in new:\n",
    "        time.sleep(1)\n",
    "    new.close()\n",
    "        \n",
    "#가장아래로 스크롤을 내린다.\n",
    "driver.execute_script(\"window.scrollTo(0, document.body.scrollHeight);\")\n",
    "time.sleep(0.5)\n",
    "\n",
    "#더보기 버튼이 더이상 나오지 않을때까지누른다.\n",
    "for i in range(1, 100):\n",
    "    try:\n",
    "        more_button = driver.find_element(By.XPATH, '//*[@id=\"content-container\"]/div[2]/button')\n",
    "        more_button.click()\n",
    "        print('게임 로드중...')\n",
    "        driver.execute_script(\"window.scrollTo(0, document.body.scrollHeight);\")\n",
    "        time.sleep(2)\n",
    "    except:\n",
    "        print(\"더이상 찾을 데이터가 없습니다.\")\n",
    "        break\n",
    "\n",
    "    \n",
    "print('완료')\n",
    "\n",
    "html = driver.page_source\n",
    "# print('파일저장중')\n",
    "# f = open('/Users/dryoon/Documents/schoolproject/all.html','w')\n",
    "# f.write(html)\n",
    "# f.close() \n",
    "# print('저장완료!')\n",
    "driver.quit()\n",
    "\n",
    "\n",
    "\n"
   ]
  },
  {
   "cell_type": "markdown",
   "metadata": {},
   "source": [
    "## Beautiful Soup을 사용한 주요 로직   \n",
    "1. 윗 코드에서 html을 받으면 플레이한 게임의 수를 샙니다.  \n",
    "2. 승패기록을 가져와서 데이터 프레임에 저장합니다.\n",
    "3. k/d/a를 가져와서 데이터 프레임에 저장합니다.\n",
    "4. 승률을 계산합니다.(승리횟수/전체게임횟수-다시하기 판수)\n",
    "5. 아까 생성한 두 데이터 프레임을 한개의 데이터프레임으로 만듭니다.\n",
    "6. csv형태로 파일을 저장합니다.\n",
    "7. 파이차트로 승리 비율과 패배 비율을 출력합니다."
   ]
  },
  {
   "cell_type": "code",
   "execution_count": 3,
   "metadata": {},
   "outputs": [
    {
     "name": "stdout",
     "output_type": "stream",
     "text": [
      "가져온 게임의 판수는 54판 입니다\n",
      "승리 : 21 판\n",
      "패배 : 32 판\n",
      "다시하기 : 1 판\n",
      "승률 : 39.62%\n",
      "      결과\n",
      "0     승리\n",
      "1     승리\n",
      "2     패배\n",
      "3     승리\n",
      "4     패배\n",
      "5     패배\n",
      "6     패배\n",
      "7     패배\n",
      "8     패배\n",
      "9     패배\n",
      "10    승리\n",
      "11    패배\n",
      "12    패배\n",
      "13    패배\n",
      "14    승리\n",
      "15    패배\n",
      "16    패배\n",
      "17    패배\n",
      "18    승리\n",
      "19    승리\n",
      "20    승리\n",
      "21  다시하기\n",
      "22    승리\n",
      "23    패배\n",
      "24    패배\n",
      "25    패배\n",
      "26    승리\n",
      "27    패배\n",
      "28    패배\n",
      "29    승리\n",
      "30    승리\n",
      "31    승리\n",
      "32    패배\n",
      "33    패배\n",
      "34    승리\n",
      "35    패배\n",
      "36    패배\n",
      "37    승리\n",
      "38    패배\n",
      "39    패배\n",
      "40    패배\n",
      "41    승리\n",
      "42    패배\n",
      "43    승리\n",
      "44    승리\n",
      "45    패배\n",
      "46    승리\n",
      "47    승리\n",
      "48    패배\n",
      "49    패배\n",
      "50    승리\n",
      "51    패배\n",
      "52    패배\n",
      "53    패배\n"
     ]
    },
    {
     "data": {
      "image/png": "[encoded data removed]",
      "text/plain": [
       "<Figure size 640x480 with 1 Axes>"
      ]
     },
     "metadata": {},
     "output_type": "display_data"
    }
   ],
   "source": [
    "# # 파일 열기 (읽기 모드)\n",
    "# file_path = \"/Users/dryoon/Documents/schoolproject/all.html\"  # 파일 경로를 지정합니다.\n",
    "# file = open(file_path, \"r\")\n",
    "\n",
    "\n",
    "soup = BeautifulSoup(html, 'html.parser')\n",
    "# \"game-content\" 클래스 선택\n",
    "game_content = soup.select('div.game-content')\n",
    "\n",
    "#가져온 게임수 세기\n",
    "recent_game_len = len(game_content)\n",
    "print(f'가져온 게임의 판수는 {recent_game_len}판 입니다')\n",
    "\n",
    "# 승패가져와서 데이터프레임으로 저장\n",
    "result_all = soup.find_all(class_=\"result\")\n",
    "result_values = [result.get_text() for result in result_all]\n",
    "df_result = pd.DataFrame({'결과': result_values})\n",
    "#승리와 패베 개수샘\n",
    "result_num = df_result['결과'].value_counts()\n",
    "\n",
    "#kda 가져와서 데이터프레임으로 저장\n",
    "result_kda = soup.find_all(class_=\"k-d-a\")\n",
    "kda_values = [kdaresult.get_text() for kdaresult in result_kda]\n",
    "del kda_values[0]\n",
    "df_kda = pd.DataFrame({'k/d/a': kda_values},index=None)\n",
    "\n",
    "try:\n",
    "    print(f\"승리 : {result_num['승리']} 판\")\n",
    "    print(f\"패배 : {result_num['패배']} 판\")\n",
    "    try:\n",
    "        print(f\"다시하기 : {result_num['다시하기']} 판\")\n",
    "    except:\n",
    "        pass\n",
    "    winrate = \"%0.2f\"%((result_num[\"승리\"]/(result_num['승리']+result_num['패배']))*100)\n",
    "    print(f'승률 : {winrate}%')\n",
    "    print(df_result)\n",
    "except:\n",
    "    print(f'총게임수는{recent_game_len}입니다.')\n",
    "    print('승률은 0%입니다')\n",
    "\n",
    "\n",
    "\n",
    "\n",
    "# 데이터프레임 인덱스 초기화\n",
    "if len(df_result) != len(df_kda):\n",
    "    df_result = df_result.reset_index(drop=True)\n",
    "    df_kda = df_kda.reset_index(drop=True)\n",
    "\n",
    "\n",
    "\n",
    "# 두 데이터프레임 합치기\n",
    "merged_df = pd.concat([df_result, df_kda], axis=1)\n",
    "\n",
    "# 결과를 엑셀 파일로 저장\n",
    "merged_df.to_excel('merged_df.xlsx', index=False)\n",
    "\n",
    "# 승패 비율\n",
    "ratio = [result_num['승리'],result_num['패배']]\n",
    "labels = ['win', 'defeat']\n",
    "\n",
    "# 승패 비율 그래프\n",
    "plt.pie(ratio, labels=labels, autopct='%.1f%%')\n",
    "plt.show()"
   ]
  },
  {
   "cell_type": "markdown",
   "metadata": {},
   "source": [
    "## 정리\n",
    "1. 셀레니움만을 이용하여 크롤링이 가능하다는것을 알게됨\n",
    "2. 셀레니움을 이용하여 크롤링을 하면 속도가 느리다는것을 알게됨  \n",
    "개인적인 생각으로는 동적인 웹인경우는 셀레니움을 이용해서 html을 파싱후 beautifulsoup을 이용하여 데이터를 가져오는것이 가장 이상적이라고 생각이 됨.   \n",
    "정적인 웹이더라도 크롤링이 막혀있는 경우가 있기때문에 셀레니움와 beautifulsoup을 동시에 알고있는것이 좋다고 생각됨."
   ]
  },
  {
   "cell_type": "code",
   "execution_count": null,
   "metadata": {},
   "outputs": [],
   "source": []
  },
  {
   "cell_type": "code",
   "execution_count": null,
   "metadata": {},
   "outputs": [],
   "source": []
  }
 ],
 "metadata": {
  "kernelspec": {
   "display_name": "sp",
   "language": "python",
   "name": "python3"
  },
  "language_info": {
   "codemirror_mode": {
    "name": "ipython",
    "version": 3
   },
   "file_extension": ".py",
   "mimetype": "text/x-python",
   "name": "python",
   "nbconvert_exporter": "python",
   "pygments_lexer": "ipython3",
   "version": "3.9.16"
  },
  "orig_nbformat": 4
 },
 "nbformat": 4,
 "nbformat_minor": 2
}
