{
 "cells": [
  {
   "cell_type": "code",
   "execution_count": 1,
   "metadata": {},
   "outputs": [
    {
     "name": "stdout",
     "output_type": "stream",
     "text": [
      "로딩중...\n",
      "최근 업데이트: 5시간 전\n",
      "데이터 최신화 중...\n"
     ]
    },
    {
     "data": {
      "application/vnd.jupyter.widget-view+json": {
       "model_id": "b843c778cbca4e0dbb785b5d14314eb4",
       "version_major": 2,
       "version_minor": 0
      },
      "text/plain": [
       "5초 소요:   0%|          | 0/5 [00:00<?, ?it/s]"
      ]
     },
     "metadata": {},
     "output_type": "display_data"
    },
    {
     "name": "stdout",
     "output_type": "stream",
     "text": [
      "게임 로드중...40/100\n",
      "게임 로드중...60/100\n",
      "게임 로드중...80/100\n",
      "게임 로드중...100/100\n",
      "완료\n",
      "파일저장중\n",
      "저장완료!\n"
     ]
    }
   ],
   "source": [
    "from selenium import webdriver\n",
    "from selenium.webdriver.common.by import By\n",
    "from bs4 import BeautifulSoup\n",
    "import pandas as pd\n",
    "import time\n",
    "import re\n",
    "from tqdm.notebook import tqdm\n",
    "\n",
    "nickname = '다녀5세요'\n",
    "url = f'https://www.op.gg/summoners/kr/{nickname}'\n",
    "\n",
    "# Chrome 드라이버 경로 설정\n",
    "driver = webdriver.Chrome()\n",
    "\n",
    "# op.gg 웹 사이트로 이동\n",
    "print('로딩중...')\n",
    "driver.get(url)\n",
    "\n",
    "look = driver.find_element(By.CSS_SELECTOR, \".css-n9kjrp .header-profile-info .info > .last-update\").text\n",
    "print(look)\n",
    "\n",
    "if re.search(r'(\\d+)+(시간|일)\\s+전', look):\n",
    "    driver.find_element(By.CSS_SELECTOR, \".css-1ki6o6m.e18vylim0\").click()\n",
    "    print('데이터 최신화 중...')\n",
    "    new = tqdm(range(5),desc='5초 소요',leave=False)\n",
    "    for i in new:\n",
    "        time.sleep(1)\n",
    "    new.close()\n",
    "        \n",
    "\n",
    "driver.execute_script(\"window.scrollTo(0, document.body.scrollHeight);\")\n",
    "time.sleep(0.5)\n",
    "\n",
    "for i in range(1,5):\n",
    "\n",
    "    if driver.find_element(By.CSS_SELECTOR, '.css-1s9fubg .more'):  # 더 보기 버튼 찾기\n",
    "        driver.find_element(By.CSS_SELECTOR, '.css-1s9fubg .more').click()  # 누르기\n",
    "        print(f'게임 로드중...{i*20+20}/100')\n",
    "        driver.execute_script(\"window.scrollTo(0, document.body.scrollHeight);\")\n",
    "        time.sleep(5)\n",
    "    else:\n",
    "        break\n",
    "# details = driver.find_elements(By.XPATH, (\"//div[contains(@class,'StatsButton')]\"))\n",
    "# for i in details:\n",
    "#     i.click()\n",
    "#     time.sleep(1)\n",
    "\n",
    "\n",
    "    \n",
    "print('완료')\n",
    "\n",
    "html = driver.page_source\n",
    "print('파일저장중')\n",
    "f = open('/Users/dryoon/Documents/schoolproject/all.html','w')\n",
    "f.write(html)\n",
    "f.close() \n",
    "print('저장완료!')\n",
    "driver.quit()\n"
   ]
  },
  {
   "cell_type": "code",
   "execution_count": 4,
   "metadata": {},
   "outputs": [
    {
     "name": "stdout",
     "output_type": "stream",
     "text": [
      "가져온 게임의 판수는 100판 입니다\n",
      "    결과\n",
      "0   승리\n",
      "1   패배\n",
      "2   승리\n",
      "3   패배\n",
      "4   승리\n",
      "..  ..\n",
      "95  승리\n",
      "96  승리\n",
      "97  승리\n",
      "98  승리\n",
      "99  승리\n",
      "\n",
      "[100 rows x 1 columns]\n"
     ]
    }
   ],
   "source": [
    "from bs4 import BeautifulSoup\n",
    "\n",
    "# 파일 열기 (읽기 모드)\n",
    "file_path = \"/Users/dryoon/Documents/schoolproject/all.html\"  # 파일 경로를 지정합니다.\n",
    "file = open(file_path, \"r\")\n",
    "\n",
    "\n",
    "# BeautifulSoup을 사용하여 HTML 파싱\n",
    "soup = BeautifulSoup(file, 'html.parser')\n",
    "\n",
    "# \"game-content\" 클래스 선택\n",
    "game_content = soup.select('div.game-content')\n",
    "\n",
    "recent_game_len = len(game_content)\n",
    "print(f'가져온 게임의 판수는 {recent_game_len}판 입니다')\n",
    "\n",
    "result_all = soup.find_all(class_=\"result\")\n",
    "\n",
    "# 추출한 결과를 리스트로 저장\n",
    "result_values = [result.get_text() for result in result_all]\n",
    "\n",
    "# 데이터프레임으로 변환\n",
    "df = pd.DataFrame({'결과': result_values})\n",
    "\n",
    "# 데이터프레임 출력\n",
    "print(df)\n",
    "\n",
    "\n",
    "file.close()"
   ]
  },
  {
   "cell_type": "code",
   "execution_count": null,
   "metadata": {},
   "outputs": [],
   "source": []
  }
 ],
 "metadata": {
  "kernelspec": {
   "display_name": "sp",
   "language": "python",
   "name": "python3"
  },
  "language_info": {
   "codemirror_mode": {
    "name": "ipython",
    "version": 3
   },
   "file_extension": ".py",
   "mimetype": "text/x-python",
   "name": "python",
   "nbconvert_exporter": "python",
   "pygments_lexer": "ipython3",
   "version": "3.9.16"
  },
  "orig_nbformat": 4
 },
 "nbformat": 4,
 "nbformat_minor": 2
}
