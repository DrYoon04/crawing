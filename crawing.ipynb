{
 "cells": [
  {
   "cell_type": "markdown",
   "metadata": {},
   "source": [
    "학교 홈페이지 식단 크롤링 코드"
   ]
  },
  {
   "cell_type": "code",
   "execution_count": null,
   "metadata": {},
   "outputs": [],
   "source": [
    "import requests\n",
    "from bs4 import BeautifulSoup\n",
    "from html_table_parser import parser_functions\n",
    "import pandas as pd\n",
    "from datetime import datetime\n",
    "import re\n",
    "\n",
    "user = input('동이름을 적어주세요(오름1, 오름3, 푸름)') #동이름 선택\n",
    "result = []\n",
    "now = datetime.now()\n",
    "date = now.strftime(\"%m%d\") #오늘 날짜를 구함\n",
    "time = now.strftime('%H') # 오늘 시간을 구함\n",
    "time = int(time) #str에서 int로 변환\n",
    "\n",
    "if user == '푸름':\n",
    "    webpage = requests.get(\"https://dorm.kumoh.ac.kr/dorm/restaurant_menu01.do#\")\n",
    "elif user== '오름1':\n",
    "    webpage = requests.get(\"https://dorm.kumoh.ac.kr/dorm/restaurant_menu02.do#\")\n",
    "elif user == '오름3':\n",
    "    webpage = requests.get(\"https://dorm.kumoh.ac.kr/dorm/restaurant_menu03.do#\")\n",
    "\n",
    "\n",
    "soup = BeautifulSoup(webpage.content, \"html.parser\") \n",
    "\n",
    "data = soup.find('table', {'class': 'smu-table tb-w150'}) #html에서 class에 해당하는 테이블을 찾음\n",
    "\n",
    "table = parser_functions.make2d(data) #찾은 테이블을 table에 저장\n",
    "\n",
    "df = pd.DataFrame(data=table[1:], columns=table[0]) #데이터 프레임에 저장\n",
    "\n",
    "# 각 칼럼 이름에서 숫자만 추출하여 새로운 칼럼 이름으로 설정\n",
    "new_columns = [re.sub(\"[^0-9]\", \"\", column) for column in df.columns]\n",
    "df.columns = new_columns\n",
    "\n",
    "df.index = ['중식', '석식']\n",
    "for data in df[date]: #띄어쓰기 정리\n",
    "    result.append(data.replace('\\n', '\\n'))\n",
    "\n",
    "if 14<time<19: #현제 시간에 따라 중식 식단이나 석식 식단이 출력됨\n",
    "    print(result[1])\n",
    "else:\n",
    "    print(result[0])"
   ]
  },
  {
   "cell_type": "code",
   "execution_count": null,
   "metadata": {},
   "outputs": [],
   "source": []
  },
  {
   "cell_type": "code",
   "execution_count": null,
   "metadata": {},
   "outputs": [],
   "source": []
  },
  {
   "cell_type": "code",
   "execution_count": null,
   "metadata": {},
   "outputs": [],
   "source": []
  },
  {
   "cell_type": "code",
   "execution_count": null,
   "metadata": {},
   "outputs": [],
   "source": []
  }
 ],
 "metadata": {
  "kernelspec": {
   "display_name": "sp",
   "language": "python",
   "name": "python3"
  },
  "language_info": {
   "codemirror_mode": {
    "name": "ipython",
    "version": 3
   },
   "file_extension": ".py",
   "mimetype": "text/x-python",
   "name": "python",
   "nbconvert_exporter": "python",
   "pygments_lexer": "ipython3",
   "version": "3.9.16"
  },
  "orig_nbformat": 4
 },
 "nbformat": 4,
 "nbformat_minor": 2
}
