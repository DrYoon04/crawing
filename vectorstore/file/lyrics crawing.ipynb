{
 "cells": [
  {
   "cell_type": "code",
   "execution_count": null,
   "metadata": {},
   "outputs": [],
   "source": [
    "import requests\n",
    "from bs4 import BeautifulSoup\n",
    "import re\n",
    "from collections import Counter\n",
    "\n"
   ]
  },
  {
   "cell_type": "code",
   "execution_count": null,
   "metadata": {},
   "outputs": [],
   "source": [
    "\n",
    "\n",
    "for page in range(1,):\n",
    "    url = f\"https://www.lyrics.co.kr/?&paged={page}#gsc.tab=0\"\n",
    "    headers = {\"User-Agent\": \"Mozilla/5.0 (Windows NT 6.3; WOW64) AppleWebKit/537.36 (KHTML, like Gecko) Chrome/44.0.2403.157 Safari/537.36\"}\n",
    "\n",
    "    html = requests.get(url, headers=headers)\n",
    "    soup = BeautifulSoup(html.content, 'html.parser')\n",
    "    music_block = soup.find(class_=\"col-12 col-md-12 col-lg-8\")\n",
    "    music_main = music_block.find_all(class_=\"single-post-area style-2\")\n",
    "\n",
    "    music_block_len = len(music_main)\n",
    "\n",
    "    music_content_link = []\n",
    "    music_content_headline = []\n",
    "\n",
    "    for i in range(music_block_len):\n",
    "        link_element = music_main[i].find('a', class_='post-title mb-2')\n",
    "        if link_element and 'href' in link_element.attrs:\n",
    "            music_content_link.append(link_element['href'])\n",
    "        else:\n",
    "            music_content_link.append(\"N/A\")  \n",
    "            \n",
    "        # 노래 제목을 추출합니다.\n",
    "        headline_element = music_main[i].find('a')\n",
    "        if headline_element:\n",
    "            music_content_headline.append(headline_element.text)\n",
    "        else:\n",
    "            music_content_headline.append(\"N/A\")\n",
    "            # 가사 제목을 찾을 수 없는 경우 처리\n",
    "\n",
    "    cleaned_data = []\n",
    "    for item in music_content_headline:\n",
    "        # 공백 제거 및 제목 부분 추출\n",
    "        cleaned_item = re.sub(r'\\n\\s*', '', item.strip())\n",
    "        cleaned_data.append(cleaned_item)\n",
    "\n",
    "    # 가져온 내용 출력\n",
    "    print(f'가져온 음악의 가사 개수는 {music_block_len}개 입니다')\n",
    "    for i in range(music_block_len):\n",
    "        print(f\"가사 제목: {cleaned_data[i]}\")\n",
    "        print(f\"링크: {music_content_link[i]}\")\n"
   ]
  },
  {
   "cell_type": "code",
   "execution_count": null,
   "metadata": {},
   "outputs": [],
   "source": [
    "for selected_music_link in music_content_link:\n",
    "    music_link=\"https://www.lyrics.co.kr\"+selected_music_link\n",
    "    headers = {\"User-Agent\": \"Mozilla/5.0 (Windows NT 6.3; WOW64) AppleWebKit/537.36 (KHTML, like Gecko) Chrome/44.0.2403.157 Safari/537.36\"}\n",
    "\n",
    "    # 선택한 뉴스 링크의 내용을 가져옵니다\n",
    "    html = requests.get(music_link, headers=headers)\n",
    "    soup = BeautifulSoup(html.content, 'html.parser')\n",
    "    print\n",
    "\n",
    "\n",
    "\n",
    "\n",
    "\n"
   ]
  },
  {
   "cell_type": "code",
   "execution_count": null,
   "metadata": {},
   "outputs": [],
   "source": []
  }
 ],
 "metadata": {
  "kernelspec": {
   "display_name": "chroma",
   "language": "python",
   "name": "python3"
  },
  "language_info": {
   "codemirror_mode": {
    "name": "ipython",
    "version": 3
   },
   "file_extension": ".py",
   "mimetype": "text/x-python",
   "name": "python",
   "nbconvert_exporter": "python",
   "pygments_lexer": "ipython3",
   "version": "3.9.18"
  },
  "orig_nbformat": 4
 },
 "nbformat": 4,
 "nbformat_minor": 2
}
