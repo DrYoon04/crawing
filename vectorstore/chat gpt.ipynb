{
 "cells": [
  {
   "cell_type": "code",
   "execution_count": null,
   "metadata": {},
   "outputs": [],
   "source": [
    "# 파일 경로 설정\n",
    "file_path = '/Users/dryoon04/Documents/GitHub/schoolproject/vectorstore/open ai api key.txt'\n",
    "\n",
    "# 파일 열기 (읽기 모드로 열기)\n",
    "with open(file_path, 'r', encoding='utf-8') as file:\n",
    "    # 파일 내용 읽어오기\n",
    "    file_content = file.read()"
   ]
  },
  {
   "cell_type": "code",
   "execution_count": null,
   "metadata": {},
   "outputs": [],
   "source": [
    "import pandas as pd\n",
    "import chromadb\n",
    "import os\n",
    "import openai\n"
   ]
  },
  {
   "cell_type": "code",
   "execution_count": null,
   "metadata": {},
   "outputs": [],
   "source": [
    "df = pd.read_csv('lyrics.csv')"
   ]
  },
  {
   "cell_type": "code",
   "execution_count": null,
   "metadata": {},
   "outputs": [],
   "source": [
    "client = chromadb.PersistentClient(\"chromadb/lyrics.db\")\n",
    "collection = client.get_or_create_collection(name=\"lyrics\",metadata={\"hnsw:space\":\"cosine\"})\n"
   ]
  },
  {
   "cell_type": "code",
   "execution_count": null,
   "metadata": {},
   "outputs": [],
   "source": [
    "singers = []\n",
    "song_titles = []\n",
    "lyrics = []\n",
    "ids = []\n",
    "documents = []\n",
    "\n",
    "for idx in range(len(df)):\n",
    "    item = df.iloc[idx]\n",
    "    singer = item['가수'].strip().lower()  # 가수 정보\n",
    "    song_title = item['제목'].strip().lower()  # 노래 제목 정보\n",
    "    lyric = item['가사'].strip().lower()  # 가사 정보\n",
    "\n",
    "    # id = f\"{singer}-{song_title}\".replace(' ', '-')  # 고유한 ID 생성\n",
    "    id = f\"{singer}-{song_title}\"\n",
    "    document = f\"{singer}:{song_title}:{lyric}\"  # 문서 텍스트 생성\n",
    "    \n",
    "    \n",
    "    ids.append(id)\n",
    "    documents.append(document)\n",
    "\n",
    "# DB 저장\n",
    "collection.add(documents=documents,ids=ids)\n"
   ]
  },
  {
   "cell_type": "code",
   "execution_count": null,
   "metadata": {},
   "outputs": [],
   "source": [
    "user_query = input(\"검색어를 입력하세요: \")\n",
    "vector_res = collection.query(query_texts=[f\"{user_query}\"],n_results=5)\n",
    "print(user_query)\n",
    "print(vector_res)"
   ]
  },
  {
   "cell_type": "code",
   "execution_count": null,
   "metadata": {},
   "outputs": [],
   "source": [
    "\n",
    "os.environ[\"OPENAI_API_KEY\"] = file_content\n",
    "openai.api_key = os.getenv(\"OPENAI_API_KEY\")\n",
    "user_query = input(\"검색어를 입력하세요: \")\n",
    "vector_res = collection.query(query_texts=[f\"{user_query}\"],n_results=5)\n",
    "print(vector_res)\n",
    "srchres = []\n",
    "for v in vector_res['documents'][0]:\n",
    "    item = v.split(':')\n",
    "    srchres.append({\"가수\" : item[0].strip(),\"제목\" : item[1].strip(),\"가사\" : item[2].strip()})\n",
    "    \n",
    "completion = openai.ChatCompletion.create(\n",
    "    model=\"gpt-3.5-turbo\",\n",
    "    messages=[\n",
    "               {\"role\": \"system\",\"content\": \"You are an assistant who can answer questions about music lyricsBased on the following database In order to answer questions, you should only use facts from the databaseIf you feel you don't have enough information to answer a question, you should say, '답할수있는 정보가 없습니다.'.\"},\n",
    "            {\"role\": \"user\", \"content\": f\"{user_query}\"},\n",
    "            {\"role\": \"assistant\", \"content\": f\"{srchres}\"},\n",
    "        ],\n",
    "        temperature=1,\n",
    "        max_tokens=256,\n",
    "        top_p=1,\n",
    "        frequency_penalty=0,\n",
    "        presence_penalty=0,\n",
    "    )\n",
    "    \n",
    "print(completion[\"choices\"][0][\"message\"][\"content\"])\n"
   ]
  },
  {
   "cell_type": "code",
   "execution_count": null,
   "metadata": {},
   "outputs": [],
   "source": [
    "user_query = input(\"검색어를 입력하세요: \")\n",
    "vector_res = collection.query(query_texts=[f\"{user_query}\"],n_results=10)\n",
    "print(user_query)\n",
    "print(vector_res)"
   ]
  }
 ],
 "metadata": {
  "kernelspec": {
   "display_name": "chroma",
   "language": "python",
   "name": "python3"
  },
  "language_info": {
   "codemirror_mode": {
    "name": "ipython",
    "version": 3
   },
   "file_extension": ".py",
   "mimetype": "text/x-python",
   "name": "python",
   "nbconvert_exporter": "python",
   "pygments_lexer": "ipython3",
   "version": "3.9.18"
  },
  "orig_nbformat": 4
 },
 "nbformat": 4,
 "nbformat_minor": 2
}
