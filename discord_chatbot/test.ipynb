{
 "cells": [
  {
   "cell_type": "code",
   "execution_count": 10,
   "outputs": [
    {
     "name": "stdout",
     "output_type": "stream",
     "text": [
      "['식단', '푸름', '저녁']\n"
     ]
    }
   ],
   "source": [
    "\n",
    "import os\n",
    "import openai\n",
    "import module.food as food\n",
    "# 파일 경로 설정\n",
    "file_path = '/Users/dryoon04/Documents/GitHub/university-project/discord_chatbot/api key.txt'\n",
    "\n",
    "# 파일 열기 (읽기 모드로 열기)\n",
    "with open(file_path, 'r', encoding='utf-8') as file:\n",
    "    # 파일 내용 읽어오기\n",
    "    file_content = file.read()\n",
    "os.environ[\"OPENAI_API_KEY\"] = file_content\n",
    "openai.api_key = os.getenv(\"OPENAI_API_KEY\")\n",
    "\n",
    "\n",
    "def chat(user):\n",
    "\n",
    "    completion = openai.ChatCompletion.create(\n",
    "    model=\"gpt-4-1106-preview\",\n",
    "    messages=[\n",
    "        {\"role\": \"system\",\n",
    "         \"content\": \"\"\"사용자의 명령을 인식헤서 분류하는 쳇봇이다. 다음과 같이 무조건 답을 해야한다.(양식 설명의 중괄호는 뺴고 답하기)\n",
    "                    기숙사 메뉴나 학생식당의 매뉴등을 물어본다면 {식단 장소이름 시간} 이 양식으로 답하면 된다.\n",
    "                    분류할 수 없는 질문을 하면 {오류} 라고 대답하면 된다.\"\"\"},\n",
    "        {\"role\": \"user\", \"content\": f\"{user}\"},\n",
    "\n",
    "    ],\n",
    "    temperature=0,\n",
    "    max_tokens=256,\n",
    "    top_p=1,\n",
    "    frequency_penalty=0,\n",
    "    presence_penalty=0,\n",
    "    )\n",
    "\n",
    "\n",
    "    ans = completion[\"choices\"][0][\"message\"][\"content\"].split()\n",
    "\n",
    "    if ans[0] == '식단':\n",
    "        return food.get_menu_data(ans[1])\n",
    "\n",
    "\n",
    "\n",
    "\n"
   ],
   "metadata": {
    "collapsed": false,
    "ExecuteTime": {
     "end_time": "2023-11-23T16:52:54.261370Z",
     "start_time": "2023-11-23T16:52:52.330429Z"
    }
   }
  },
  {
   "cell_type": "code",
   "execution_count": 1,
   "outputs": [
    {
     "name": "stdout",
     "output_type": "stream",
     "text": [
      "/Users/dryoon04/Documents/GitHub/university-project/discord_chatbot\r\n"
     ]
    }
   ],
   "source": [
    "! pwd"
   ],
   "metadata": {
    "collapsed": false,
    "ExecuteTime": {
     "end_time": "2023-11-23T17:25:28.309445Z",
     "start_time": "2023-11-23T17:25:28.189477Z"
    }
   }
  },
  {
   "cell_type": "code",
   "execution_count": 2,
   "outputs": [],
   "source": [],
   "metadata": {
    "collapsed": false,
    "ExecuteTime": {
     "end_time": "2023-11-23T16:49:20.330730Z",
     "start_time": "2023-11-23T16:49:20.328082Z"
    }
   }
  }
 ],
 "metadata": {
  "kernelspec": {
   "display_name": "Python 3 (ipykernel)",
   "language": "python",
   "name": "python3"
  },
  "language_info": {
   "codemirror_mode": {
    "name": "ipython",
    "version": 3
   },
   "file_extension": ".py",
   "mimetype": "text/x-python",
   "name": "python",
   "nbconvert_exporter": "python",
   "pygments_lexer": "ipython3",
   "version": "3.11.5"
  }
 },
 "nbformat": 4,
 "nbformat_minor": 2
}
